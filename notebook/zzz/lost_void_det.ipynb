{
 "cells": [
  {
   "cell_type": "code",
   "id": "2ccd20a0-e4f7-4ccc-8f98-4a069b707efb",
   "metadata": {},
   "source": [
    "import pandas as pd\n",
    "import sys\n",
    "import os\n",
    "import math\n",
    "sys.path.append('../../src')"
   ],
   "outputs": [],
   "execution_count": null
  },
  {
   "cell_type": "code",
   "id": "6bfd7549-a791-43b5-9045-2408985315af",
   "metadata": {},
   "source": [
    "from one_dragon_yolo.devtools import os_utils\n",
    "from one_dragon_yolo.devtools import ultralytics_utils\n",
    "from one_dragon_yolo.devtools import yolo_dataset_utils"
   ],
   "outputs": [],
   "execution_count": null
  },
  {
   "cell_type": "code",
   "id": "61d9666e-ed67-43ee-805c-96c1fde496f1",
   "metadata": {},
   "source": [
    "ultralytics_utils.init_ultralytics_settings()"
   ],
   "outputs": [],
   "execution_count": null
  },
  {
   "cell_type": "code",
   "id": "603bce91-cb98-45fd-9187-b6e37f065693",
   "metadata": {},
   "source": [
    "# origin_img_size = 32 * 68\n",
    "# img_size_div = 2\n",
    "origin_img_size = 32 * 69\n",
    "img_size_div = 3\n",
    "train_img_size = origin_img_size // img_size_div\n",
    "\n",
    "export_width = origin_img_size // img_size_div\n",
    "export_height = math.ceil((export_width // 16 * 9) * 1.0 / 32) * 32\n",
    "export_img_size = (export_height, export_width) # 由于训练时候没有开启缩放，使用训练的尺寸效果会更好\n",
    "\n",
    "dataset_name = f'zzz_lost_void_det_{origin_img_size}'\n",
    "\n",
    "# pretrained_model_name = 'yolo11n'\n",
    "pretrained_model_name = 'yolov8n'\n",
    "train_name = f'{pretrained_model_name}-{train_img_size}'"
   ],
   "outputs": [],
   "execution_count": null
  },
  {
   "cell_type": "code",
   "id": "c0279b8a-e510-4d0f-a77f-01614927ded0",
   "metadata": {},
   "source": [
    "dataset_name, train_name, export_img_size"
   ],
   "outputs": [],
   "execution_count": null
  },
  {
   "cell_type": "code",
   "id": "608bc633-42d2-48a5-8b42-f14424237d8b",
   "metadata": {},
   "source": [
    "yolo_dataset_utils.init_dataset(\n",
    "    dataset_name=dataset_name,\n",
    "    raw_dataset_name='zzz_lost_void_det_raw',\n",
    "    raw_images_dir_path=os_utils.get_path_under_work_dir('label_studio', 'zzz', 'lost_void_det', 'raw'),\n",
    "    target_img_size=origin_img_size,\n",
    "    split_weights=(1, 0, 0)\n",
    ")"
   ],
   "outputs": [],
   "execution_count": null
  },
  {
   "cell_type": "code",
   "id": "721d4f40-6cd0-450b-ba19-00b89076b42c",
   "metadata": {},
   "source": [
    "from ultralytics import YOLO"
   ],
   "outputs": [],
   "execution_count": null
  },
  {
   "cell_type": "code",
   "id": "3bdbb5bf-3bcf-4c48-9439-d2b5f983e9b6",
   "metadata": {},
   "source": [
    "model = YOLO(ultralytics_utils.get_base_model_path(f'{pretrained_model_name}.pt'))"
   ],
   "outputs": [],
   "execution_count": null
  },
  {
   "cell_type": "code",
   "id": "372da530-416e-4796-a81e-9fc1857a626c",
   "metadata": {
    "scrolled": true
   },
   "source": [
    "model.train(\n",
    "    data=ultralytics_utils.get_dataset_yaml_path(dataset_name),  # 数据集配置文件的位置\n",
    "    project=ultralytics_utils.get_dataset_model_dir(dataset_name),  # 训练模型的数据（包括模型文件）的自动保存位置\n",
    "    name= train_name,\n",
    "    imgsz=train_img_size,\n",
    "    epochs=1000,\n",
    "    save_period=100,\n",
    "    batch=30,  # 根据可使用内存 自动判断batch_size\n",
    "    val=False,  # 关闭验证\n",
    "    exist_ok=True,\n",
    "    scale=0,  # 不需要缩放处理\n",
    "    flipud=0, fliplr=0,  # 不需要翻转对称\n",
    "    erasing=0,  # 不需要消除了 图片下方空白比较多\n",
    "    hsv_h=0, hsv_s=0, hsv_v=0,  # 关闭色彩调节\n",
    "    mosaic=0,  # 不需要拼接 使用原装大小\n",
    ")"
   ],
   "outputs": [],
   "execution_count": null
  },
  {
   "cell_type": "code",
   "id": "863e41a5-d98a-44fb-9e61-e4990bcb4701",
   "metadata": {},
   "source": [
    "ultralytics_utils.export_model(\n",
    "    dataset_name=dataset_name,\n",
    "    train_name=train_name,\n",
    "    imgsz=export_img_size\n",
    ")"
   ],
   "outputs": [],
   "execution_count": null
  },
  {
   "cell_type": "code",
   "id": "7b339773-2a77-4a37-b51f-5cc07990bd53",
   "metadata": {
    "scrolled": true
   },
   "source": [
    "for i in range(1, 10):\n",
    "    model_name = 'epoch%d00' % i\n",
    "    ultralytics_utils.export_model(\n",
    "        dataset_name=dataset_name,\n",
    "        train_name=train_name,\n",
    "        imgsz=export_img_size,\n",
    "        model_name=model_name,\n",
    "        save_name=f'{train_name}-{model_name}'\n",
    "    )"
   ],
   "outputs": [],
   "execution_count": null
  },
  {
   "cell_type": "code",
   "id": "dba1ceac-be89-4024-b3b2-63d1761fa81d",
   "metadata": {},
   "source": [],
   "outputs": [],
   "execution_count": null
  }
 ],
 "metadata": {
  "kernelspec": {
   "display_name": "Python 3 (ipykernel)",
   "language": "python",
   "name": "python3"
  },
  "language_info": {
   "codemirror_mode": {
    "name": "ipython",
    "version": 3
   },
   "file_extension": ".py",
   "mimetype": "text/x-python",
   "name": "python",
   "nbconvert_exporter": "python",
   "pygments_lexer": "ipython3",
   "version": "3.11.9"
  }
 },
 "nbformat": 4,
 "nbformat_minor": 5
}
