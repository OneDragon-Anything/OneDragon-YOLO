{
 "cells": [
  {
   "cell_type": "code",
   "id": "e564ae1e-bd26-4e3b-a18a-c1bf6bdb95ed",
   "metadata": {},
   "source": [
    "import pandas as pd\n",
    "import sys\n",
    "import os\n",
    "sys.path.append('../../src')"
   ],
   "outputs": [],
   "execution_count": null
  },
  {
   "cell_type": "code",
   "id": "f7f2c72d-69f4-45c9-89cb-a8cd6d689736",
   "metadata": {},
   "source": [
    "from one_dragon_yolo.devtools import os_utils\n",
    "from one_dragon_yolo.devtools import ultralytics_utils"
   ],
   "outputs": [],
   "execution_count": null
  },
  {
   "cell_type": "code",
   "id": "49e57432-67df-4778-9b33-87b2132346c0",
   "metadata": {},
   "source": [
    "ultralytics_utils.init_ultralytics_settings()"
   ],
   "outputs": [],
   "execution_count": null
  },
  {
   "cell_type": "code",
   "id": "cfe8bc76-9d7e-4f61-abe6-74d27e5e4363",
   "metadata": {},
   "source": "from one_dragon_yolo.zzz.flash_classify.yolo import DodgeYolo",
   "outputs": [],
   "execution_count": null
  },
  {
   "cell_type": "code",
   "id": "51ea149c-6f9c-4126-96ab-6bc3867fda47",
   "metadata": {},
   "source": [
    "model = DodgeYolo(ultralytics_utils.get_base_model_path('yolov8n-cls.pt'))"
   ],
   "outputs": [],
   "execution_count": null
  },
  {
   "cell_type": "code",
   "id": "e4b91840-d2e4-4a30-9826-768aef87dd28",
   "metadata": {},
   "source": [
    "dataset_name = 'zzz_dodge_raw'\n",
    "train_name = 'train'\n",
    "export_img_size = 640\n",
    "model_name = 'best'"
   ],
   "outputs": [],
   "execution_count": null
  },
  {
   "cell_type": "code",
   "id": "e5d1f7f3-314a-46dc-b6fe-633e0beb5e66",
   "metadata": {
    "scrolled": true
   },
   "source": [
    "model.train(\n",
    "    data=ultralytics_utils.get_dataset_dir(dataset_name),  # 数据集配置文件的位置\n",
    "    project=ultralytics_utils.get_dataset_model_dir(dataset_name),  # 训练模型的数据（包括模型文件）的自动保存位置\n",
    "    epochs=200,\n",
    "    imgsz=640,\n",
    "    batch=-1,  # 根据可使用内存 自动判断batch_size\n",
    "    scale=1,  # 部分图片需要缩放处理\n",
    "    flipud=0, fliplr=0,  # 不需要翻转对称\n",
    "    erasing=0,  # 不需要消除了 图片下方空白比较多\n",
    "    hsv_h=0, hsv_s=0, hsv_v=0,  # 关闭色彩调节\n",
    ")"
   ],
   "outputs": [],
   "execution_count": null
  },
  {
   "cell_type": "code",
   "id": "e7d84a53-ea2d-481d-af2e-94a84b2d3b77",
   "metadata": {},
   "source": [
    "ultralytics_utils.export_cls_model(\n",
    "    dataset_name=dataset_name,\n",
    "    train_name=train_name,\n",
    "    imgsz=export_img_size,\n",
    "    model_name=model_name,\n",
    "    save_name=f'{train_name}-{model_name}'\n",
    ")"
   ],
   "outputs": [],
   "execution_count": null
  },
  {
   "cell_type": "code",
   "id": "8f84224d-f07e-4084-a7d8-ffb2d411697b",
   "metadata": {},
   "source": [
    "val_dir = os.path.join(ultralytics_utils.get_dataset_dir(dataset_name), 'val')"
   ],
   "outputs": [],
   "execution_count": null
  },
  {
   "cell_type": "code",
   "id": "bac68da3-f49e-46eb-a0f3-ce500c79316f",
   "metadata": {},
   "source": [
    "import random"
   ],
   "outputs": [],
   "execution_count": null
  },
  {
   "cell_type": "code",
   "id": "574bad92-7bf4-4daf-91ee-3e97c451aa80",
   "metadata": {},
   "source": [
    "class_dir = os.path.join(\n",
    "    val_dir,\n",
    "    random.choice(os.listdir(val_dir))\n",
    ")\n",
    "image = os.path.join(\n",
    "    class_dir,\n",
    "    random.choice(os.listdir(class_dir))\n",
    ")\n",
    "results = model(image)"
   ],
   "outputs": [],
   "execution_count": null
  },
  {
   "cell_type": "code",
   "id": "2ad81cc0-7beb-45ad-a222-60a34ce801e2",
   "metadata": {},
   "source": [],
   "outputs": [],
   "execution_count": null
  }
 ],
 "metadata": {
  "kernelspec": {
   "display_name": "Python 3 (ipykernel)",
   "language": "python",
   "name": "python3"
  },
  "language_info": {
   "codemirror_mode": {
    "name": "ipython",
    "version": 3
   },
   "file_extension": ".py",
   "mimetype": "text/x-python",
   "name": "python",
   "nbconvert_exporter": "python",
   "pygments_lexer": "ipython3",
   "version": "3.11.9"
  }
 },
 "nbformat": 4,
 "nbformat_minor": 5
}
